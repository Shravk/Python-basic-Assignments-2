{
 "cells": [
  {
   "cell_type": "code",
   "execution_count": null,
   "id": "5dd7f569",
   "metadata": {},
   "outputs": [],
   "source": [
    "1.What are the two values of the Boolean data type? How do you write them?\n",
    "True \n",
    "False \n",
    "a==a -True\n",
    "2>4 - False"
   ]
  },
  {
   "cell_type": "code",
   "execution_count": null,
   "id": "a2a6f30d",
   "metadata": {},
   "outputs": [],
   "source": [
    "2. What are the three different types of Boolean operators?\n",
    "AND\n",
    "OR\n",
    "NOT"
   ]
  },
  {
   "cell_type": "code",
   "execution_count": null,
   "id": "d3795e0b",
   "metadata": {},
   "outputs": [],
   "source": [
    "3. Make a list of each Boolean operator's truth tables (i.e. every possible combination of Boolean values for the operator and what it evaluate ).\n",
    "AND\n",
    "True and True True\n",
    "True and False False\n",
    "False and True False\n",
    "False and False False\n",
    "\n",
    "OR\n",
    "\n",
    "True or True True\n",
    "True or False True\n",
    "False or True True\n",
    "False or False False\n",
    "\n",
    "NOT\n",
    "not True False\n",
    "not False True"
   ]
  },
  {
   "cell_type": "code",
   "execution_count": null,
   "id": "1bcab447",
   "metadata": {},
   "outputs": [],
   "source": [
    "4. What are the values of the following expressions?\n",
    "(5 > 4) and (3 == 5)- False\n",
    "not (5 > 4) -     False\n",
    "(5 > 4) or (3 == 5) -True\n",
    "not ((5 > 4) or (3 == 5)) - False\n",
    "(True and True) and (True == False) - False\n",
    "(not False) or (not True)  - True\n",
    "\n",
    "\n"
   ]
  },
  {
   "cell_type": "code",
   "execution_count": null,
   "id": "aff20f3e",
   "metadata": {},
   "outputs": [],
   "source": [
    "5. What are the six comparison operators?\n",
    "equal to\n",
    "not equal to \n",
    "greater than\n",
    "greater than or equal to\n",
    "less than \n",
    "less than or equal to"
   ]
  },
  {
   "cell_type": "code",
   "execution_count": null,
   "id": "0af176b4",
   "metadata": {},
   "outputs": [],
   "source": [
    "6. How do you tell the difference between the equal to and assignment operators?Describe a condition and when you would use one.\n",
    "equal to means assign the value to variable and assignment operator will check the both given values same are not, if it is same it will return True otherwise False\n",
    "a= 10\n",
    "10==10"
   ]
  },
  {
   "cell_type": "code",
   "execution_count": 27,
   "id": "6a084059",
   "metadata": {},
   "outputs": [
    {
     "ename": "IndentationError",
     "evalue": "expected an indented block (Temp/ipykernel_3548/2051929792.py, line 5)",
     "output_type": "error",
     "traceback": [
      "\u001b[1;36m  File \u001b[1;32m\"C:\\Users\\admin\\AppData\\Local\\Temp/ipykernel_3548/2051929792.py\"\u001b[1;36m, line \u001b[1;32m5\u001b[0m\n\u001b[1;33m    print('bacon')\u001b[0m\n\u001b[1;37m    ^\u001b[0m\n\u001b[1;31mIndentationError\u001b[0m\u001b[1;31m:\u001b[0m expected an indented block\n"
     ]
    }
   ],
   "source": [
    "7. Identify the three blocks in this code:\n",
    "spam = 0\n",
    "if spam == 10:\n",
    "print('eggs')-- IndentationError:\n",
    "if spam > 5:\n",
    "print('bacon')-- IndentationError:\n",
    "else:\n",
    "print('ham')-- IndentationError:\n",
    "print('spam')\n",
    "print('spam')\n"
   ]
  },
  {
   "cell_type": "code",
   "execution_count": null,
   "id": "9d8c4138",
   "metadata": {},
   "outputs": [],
   "source": [
    "8. Write code that prints Hello if 1 is stored in spam, prints Howdy if 2 is stored in spam, and prints Greetings! if anything else is stored in spam.\n",
    "spam = int(input())\n",
    "if spam ==1:\n",
    "    print(\"Hello\")\n",
    "elif spam == 2:\n",
    "    print(\"Howdy\")\n",
    "else:\n",
    "    print(\"Greetings!\")\n",
    "    \n",
    "    \n",
    "\n",
    "\n"
   ]
  },
  {
   "cell_type": "code",
   "execution_count": null,
   "id": "80ffb5c6",
   "metadata": {},
   "outputs": [],
   "source": [
    "9.If your programme is stuck in an endless loop, what keys you’ll press?\n",
    "pass\n",
    "break\n"
   ]
  },
  {
   "cell_type": "code",
   "execution_count": null,
   "id": "bd3a6524",
   "metadata": {},
   "outputs": [],
   "source": [
    "10. How can you tell the difference between break and continue?\n",
    "break will exit the loop\n",
    "continue will skips the statment and after continue key again loop will start."
   ]
  },
  {
   "cell_type": "code",
   "execution_count": null,
   "id": "9ccfa6fb",
   "metadata": {},
   "outputs": [],
   "source": [
    "11. In a for loop, what is the difference between range(10), range(0, 10), and range(0, 10, 1)?\n",
    "range(10)- it will start with 0 and end with 9\n",
    "range(0, 10)-  it will start with 0 and end with 9 , if incase we change start value it it will print from that value\n",
    "range(0, 10, 1) - it will start with 0 and end with 9,if incase we change start value it it will print from that value and if we can change step size it will print according to that"
   ]
  },
  {
   "cell_type": "code",
   "execution_count": null,
   "id": "5c6b0d50",
   "metadata": {},
   "outputs": [],
   "source": [
    "12. Write a short program that prints the numbers 1 to 10 using a for loop. Then write an equivalent program that prints the numbers 1 to 10 using a while loop.a = range(1,11)\n",
    "for i in a:\n",
    "    print(i)\n",
    "\n",
    "i = 1\n",
    "while (i<=10):\n",
    "    print(i)\n",
    "    i =i+ 1"
   ]
  },
  {
   "cell_type": "code",
   "execution_count": 71,
   "id": "226291f7",
   "metadata": {},
   "outputs": [],
   "source": [
    "13. If you had a function named bacon() inside a module named spam, how would you call it after importing spam?\n",
    "import spam\n",
    "spam.bacon()\n",
    " "
   ]
  },
  {
   "cell_type": "code",
   "execution_count": null,
   "id": "87289ab8",
   "metadata": {},
   "outputs": [],
   "source": []
  },
  {
   "cell_type": "code",
   "execution_count": null,
   "id": "108ae1fd",
   "metadata": {},
   "outputs": [],
   "source": []
  }
 ],
 "metadata": {
  "kernelspec": {
   "display_name": "Python 3 (ipykernel)",
   "language": "python",
   "name": "python3"
  },
  "language_info": {
   "codemirror_mode": {
    "name": "ipython",
    "version": 3
   },
   "file_extension": ".py",
   "mimetype": "text/x-python",
   "name": "python",
   "nbconvert_exporter": "python",
   "pygments_lexer": "ipython3",
   "version": "3.9.7"
  }
 },
 "nbformat": 4,
 "nbformat_minor": 5
}
